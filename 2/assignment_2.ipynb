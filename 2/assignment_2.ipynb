{
 "cells": [
  {
   "cell_type": "markdown",
   "metadata": {},
   "source": [
    "# Re-code the house price machine learning"
   ]
  },
  {
   "cell_type": "markdown",
   "metadata": {},
   "source": [
    "### 1.Random Choose Method to get optimal k and b"
   ]
  },
  {
   "cell_type": "code",
   "execution_count": 254,
   "metadata": {
    "collapsed": true
   },
   "outputs": [],
   "source": [
    "from sklearn.datasets import load_boston\n",
    "data = load_boston()\n",
    "X, Y = data['data'], data['target']"
   ]
  },
  {
   "cell_type": "code",
   "execution_count": null,
   "metadata": {
    "collapsed": true
   },
   "outputs": [],
   "source": []
  },
  {
   "cell_type": "markdown",
   "metadata": {},
   "source": [
    "### 2.Supervised Direction to get optimal k and b"
   ]
  },
  {
   "cell_type": "code",
   "execution_count": null,
   "metadata": {
    "collapsed": true
   },
   "outputs": [],
   "source": []
  },
  {
   "cell_type": "markdown",
   "metadata": {},
   "source": [
    "### 3.Gradient Descent to get optimal k and b"
   ]
  },
  {
   "cell_type": "code",
   "execution_count": null,
   "metadata": {
    "collapsed": true
   },
   "outputs": [],
   "source": []
  },
  {
   "cell_type": "markdown",
   "metadata": {},
   "source": [
    "### 4.Try different Loss funciton and learning rate."
   ]
  },
  {
   "cell_type": "code",
   "execution_count": null,
   "metadata": {
    "collapsed": true
   },
   "outputs": [],
   "source": []
  },
  {
   "cell_type": "markdown",
   "metadata": {},
   "source": [
    "## Finish the search problem"
   ]
  },
  {
   "cell_type": "markdown",
   "metadata": {},
   "source": [
    "### 1. Get data from web page"
   ]
  },
  {
   "cell_type": "code",
   "execution_count": 1,
   "metadata": {
    "collapsed": true
   },
   "outputs": [],
   "source": [
    "import requests\n",
    "import re\n",
    " \n",
    "headers = {\n",
    "    'User-Agent': 'Mozilla/5.0 (Windows NT 10.0; WOW64) AppleWebKit/537.36 (KHTML, like Gecko) Chrome/75.0.3770.100 Safari/537.36'\n",
    "}\n",
    "url = \"https://baike.baidu.com/item/%E5%B9%BF%E5%B7%9E%E5%9C%B0%E9%93%81/1579058\"\n",
    "\n",
    "r = requests.get(url, headers = headers)\n",
    "r.encoding = 'utf-8'\n",
    "\n",
    "with open('subway_baike.txt', 'w', encoding='utf-8') as fp:\n",
    "    fp.write(r.text)"
   ]
  },
  {
   "cell_type": "markdown",
   "metadata": {},
   "source": [
    "### 2. Preprocessing data from page source"
   ]
  },
  {
   "cell_type": "markdown",
   "metadata": {},
   "source": [
    "#### 上一步爬取了广州地铁，下一步爬取 地铁线路"
   ]
  },
  {
   "cell_type": "code",
   "execution_count": 169,
   "metadata": {
    "collapsed": true
   },
   "outputs": [],
   "source": [
    "from bs4 import BeautifulSoup"
   ]
  },
  {
   "cell_type": "code",
   "execution_count": 170,
   "metadata": {
    "collapsed": true
   },
   "outputs": [],
   "source": [
    "soup = BeautifulSoup(r.text, 'lxml')\n",
    "#print(soup.prettify())\n",
    "#print(soup.title.string)\n",
    "get_lines = r'<a data-lemmaid.*?href=\"(.*?)\".*?>\\n    (广州地铁.*?)\\n   </a>'\n",
    "pattern = re.compile(get_lines)\n",
    "lines_table = soup.table.prettify()\n",
    "likes = pattern.findall(lines_table)"
   ]
  },
  {
   "cell_type": "code",
   "execution_count": 171,
   "metadata": {},
   "outputs": [
    {
     "data": {
      "text/plain": [
       "[('/item/%E5%B9%BF%E5%B7%9E%E5%9C%B0%E9%93%811%E5%8F%B7%E7%BA%BF/5185293',\n",
       "  '广州地铁1号线'),\n",
       " ('/item/%E5%B9%BF%E5%B7%9E%E5%9C%B0%E9%93%812%E5%8F%B7%E7%BA%BF/6162023',\n",
       "  '广州地铁2号线'),\n",
       " ('/item/%E5%B9%BF%E5%B7%9E%E5%9C%B0%E9%93%813%E5%8F%B7%E7%BA%BF/6162147',\n",
       "  '广州地铁3号线'),\n",
       " ('/item/%E5%B9%BF%E5%B7%9E%E5%9C%B0%E9%93%814%E5%8F%B7%E7%BA%BF/6162210',\n",
       "  '广州地铁4号线'),\n",
       " ('/item/%E5%B9%BF%E5%B7%9E%E5%9C%B0%E9%93%815%E5%8F%B7%E7%BA%BF/6786593',\n",
       "  '广州地铁5号线'),\n",
       " ('/item/%E5%B9%BF%E5%B7%9E%E5%9C%B0%E9%93%816%E5%8F%B7%E7%BA%BF/1674272',\n",
       "  '广州地铁6号线'),\n",
       " ('/item/%E5%B9%BF%E5%B7%9E%E5%9C%B0%E9%93%817%E5%8F%B7%E7%BA%BF/5892921',\n",
       "  '广州地铁7号线'),\n",
       " ('/item/%E5%B9%BF%E5%B7%9E%E5%9C%B0%E9%93%818%E5%8F%B7%E7%BA%BF/3122926',\n",
       "  '广州地铁8号线'),\n",
       " ('/item/%E5%B9%BF%E5%B7%9E%E5%9C%B0%E9%93%819%E5%8F%B7%E7%BA%BF/6552289',\n",
       "  '广州地铁9号线'),\n",
       " ('/item/%E5%B9%BF%E5%B7%9E%E5%9C%B0%E9%93%8113%E5%8F%B7%E7%BA%BF/9335245',\n",
       "  '广州地铁13号线'),\n",
       " ('/item/%E5%B9%BF%E5%B7%9E%E5%9C%B0%E9%93%8114%E5%8F%B7%E7%BA%BF/5041514',\n",
       "  '广州地铁14号线'),\n",
       " ('/item/%E5%B9%BF%E5%B7%9E%E5%9C%B0%E9%93%8121%E5%8F%B7%E7%BA%BF/4854519',\n",
       "  '广州地铁21号线'),\n",
       " ('/item/%E5%B9%BF%E5%B7%9E%E5%9C%B0%E9%93%81APM%E7%BA%BF/16766910',\n",
       "  '广州地铁APM线')]"
      ]
     },
     "execution_count": 171,
     "metadata": {},
     "output_type": "execute_result"
    }
   ],
   "source": [
    "likes"
   ]
  },
  {
   "cell_type": "markdown",
   "metadata": {
    "collapsed": true
   },
   "source": [
    "#### 遍历每一条地铁线路，获得地铁站的连接信息"
   ]
  },
  {
   "cell_type": "code",
   "execution_count": 172,
   "metadata": {},
   "outputs": [
    {
     "data": {
      "text/plain": [
       "'https://baike.baidu.com/item/%E5%B9%BF%E5%B7%9E%E5%9C%B0%E9%93%813%E5%8F%B7%E7%BA%BF/6162147'"
      ]
     },
     "execution_count": 172,
     "metadata": {},
     "output_type": "execute_result"
    }
   ],
   "source": [
    "url_header = 'https://baike.baidu.com'\n",
    "line = url_header + likes[2][0]\n",
    "line"
   ]
  },
  {
   "cell_type": "code",
   "execution_count": 173,
   "metadata": {
    "collapsed": true
   },
   "outputs": [],
   "source": [
    "from collections import defaultdict  \n",
    "url_header = 'https://baike.baidu.com'"
   ]
  },
  {
   "cell_type": "code",
   "execution_count": 174,
   "metadata": {
    "collapsed": true
   },
   "outputs": [],
   "source": [
    "def get_information(line):\n",
    "    res = requests.get(line, headers=headers)\n",
    "    res.encoding = 'utf-8'\n",
    "    \n",
    "    line_soup = BeautifulSoup(res.text, 'lxml')\n",
    "    line_str = line_soup.table.prettify()\n",
    "    \n",
    "    get_station = r'<a .*?href=\"(.*?)\" target=\"_blank\">\\n    (.*?站)\\n'\n",
    "    station_pattern = re.compile(get_station)\n",
    "    \n",
    "    station_list = station_pattern.findall(line_str)\n",
    "    \n",
    "    return [tup[1].strip() for tup in station_list]"
   ]
  },
  {
   "cell_type": "code",
   "execution_count": 175,
   "metadata": {
    "collapsed": true
   },
   "outputs": [],
   "source": [
    "station_connection = defaultdict(list)"
   ]
  },
  {
   "cell_type": "code",
   "execution_count": 176,
   "metadata": {},
   "outputs": [
    {
     "data": {
      "text/plain": [
       "defaultdict(list,\n",
       "            {'一德路站': ['文化公园站', '海珠广场站'],\n",
       "             '万胜围站': ['官洲站', '车陂南站', '琶洲站'],\n",
       "             '三元里站': ['飞翔公园站', '广州火车站'],\n",
       "             '三溪站': ['东圃站', '鱼珠站'],\n",
       "             '东圃站': ['车陂南站', '三溪站'],\n",
       "             '东山口站': ['烈士陵园站', '杨箕站', '东湖站', '区庄站'],\n",
       "             '东晓南站': ['江泰路站', '南洲站'],\n",
       "             '东涌站': ['庆盛站', '低涌站'],\n",
       "             '东湖站': ['团一大广场站', '东山口站'],\n",
       "             '东风站': ['新和站'],\n",
       "             '中大站': ['晓港站', '鹭江站'],\n",
       "             '中山八站': ['坦尾站', '西场站'],\n",
       "             '中新站': ['镇龙站', '坑贝站'],\n",
       "             '五山站': ['华师站', '天河客运站'],\n",
       "             '五羊邨站': ['杨箕站', '珠江新城站'],\n",
       "             '京溪南方医院站': ['梅花园站', '同和站'],\n",
       "             '人和站': ['龙归站', '高增站'],\n",
       "             '会江站': ['南浦站', '石壁站'],\n",
       "             '低涌站': ['东涌站', '海傍站'],\n",
       "             '体育中心南站': ['天河南站', '林和西站'],\n",
       "             '体育中心站': ['体育西路站', '广州东站'],\n",
       "             '体育西路站': ['杨箕站', '体育中心站', '珠江新城站', '石牌桥站'],\n",
       "             '公园前站': ['西门口站', '农讲所站', '纪念堂站', '海珠广场站'],\n",
       "             '农讲所站': ['公园前站', '烈士陵园站'],\n",
       "             '凤凰新村站': ['沙园站'],\n",
       "             '凤岗站': ['坑贝站', '朱村站'],\n",
       "             '动物园站': ['区庄站', '杨箕站'],\n",
       "             '北京路站': ['海珠广场站', '团一大广场站'],\n",
       "             '区庄站': ['淘金站', '动物园站', '东山口站', '黄花岗站'],\n",
       "             '华师站': ['岗顶站', '五山站'],\n",
       "             '南岗站': ['夏园站', '沙村站'],\n",
       "             '南村万博站': ['汉溪长隆站', '员岗站'],\n",
       "             '南横站': ['南沙客运港站', '塘坑站'],\n",
       "             '南沙客运港站': ['南横站'],\n",
       "             '南洲站': ['东晓南站', '洛溪站'],\n",
       "             '南浦站': ['洛溪站', '会江站'],\n",
       "             '南海神庙站': ['双岗站', '夏园站'],\n",
       "             '厦滘站': ['大石站', '沥滘站'],\n",
       "             '双岗站': ['裕丰围站', '南海神庙站'],\n",
       "             '同和站': ['京溪南方医院站', '永泰站'],\n",
       "             '员岗站': ['南村万博站', '板桥站'],\n",
       "             '员村站': ['潭村站', '科韵路站'],\n",
       "             '嘉禾望岗站': ['黄边站', '白云大道北站', '龙归站', '白云东平站'],\n",
       "             '团一大广场站': ['北京路站', '东湖站'],\n",
       "             '坑口站': ['西塱站', '花地湾站'],\n",
       "             '坑贝站': ['中新站', '凤岗站'],\n",
       "             '坦尾站': ['滘口站', '中山八站', '河沙站', '如意坊站'],\n",
       "             '塘坑站': ['南横站', '大涌站'],\n",
       "             '增城广场站': ['钟岗站'],\n",
       "             '夏园站': ['南海神庙站', '南岗站'],\n",
       "             '夏良站': ['白云东平站', '竹料站'],\n",
       "             '大剧院站': ['海心沙站', '花城大道站'],\n",
       "             '大塘站': ['沥滘站', '客村站'],\n",
       "             '大学城北站': ['大学城南站', '官洲站'],\n",
       "             '大学城南站': ['新造站', '大学城北站', '板桥站'],\n",
       "             '大沙东站': ['大沙地站', '文冲站'],\n",
       "             '大沙地站': ['鱼珠站', '大沙东站'],\n",
       "             '大涌站': ['塘坑站', '广隆站'],\n",
       "             '大石站': ['汉溪长隆站', '厦滘站'],\n",
       "             '天平架站': ['沙河站', '燕塘站'],\n",
       "             '天河南站': ['黄埔大道站', '体育中心南站'],\n",
       "             '天河客运站': ['五山站', '林和西站', '燕塘站', '长湴站'],\n",
       "             '如意坊站': ['坦尾站', '黄沙站'],\n",
       "             '妇儿中心站': ['花城大道站', '黄埔大道站'],\n",
       "             '官桥站': ['石碁站', '新造站'],\n",
       "             '官洲站': ['大学城北站', '万胜围站'],\n",
       "             '官湖站': ['新塘站', '新沙站'],\n",
       "             '宝岗大道站': ['沙园站', '昌岗站'],\n",
       "             '客村站': ['大塘站', '广州塔站', '鹭江站', '赤岗站'],\n",
       "             '小北站': ['广州火车站', '淘金站'],\n",
       "             '山田站': ['朱村站', '钟岗站'],\n",
       "             '岗顶站': ['石牌桥站', '华师站'],\n",
       "             '市二宫站': ['海珠广场站', '江南西站'],\n",
       "             '市桥站': ['番禺广场站', '汉溪长隆站'],\n",
       "             '广州东站': ['体育中心站', '林和西站', '燕塘站'],\n",
       "             '广州北站': ['花都汽车城站', '花城路站'],\n",
       "             '广州南站': ['石壁站', '石壁站'],\n",
       "             '广州塔站': ['客村站', '珠江新城站', '海心沙站'],\n",
       "             '广州火车站': ['三元里站', '越秀公园站', '西村站', '小北站'],\n",
       "             '广隆站': ['大涌站', '飞沙角站'],\n",
       "             '庆盛站': ['黄阁汽车城站', '东涌站'],\n",
       "             '文冲站': ['大沙东站'],\n",
       "             '文化公园站': ['黄沙站', '一德路站'],\n",
       "             '新和站': ['钟落潭站', '东风站'],\n",
       "             '新塘站': ['白江站', '官湖站'],\n",
       "             '新沙站': ['官湖站'],\n",
       "             '新港东站': ['磨碟沙站', '琶洲站'],\n",
       "             '新造站': ['官桥站', '大学城南站'],\n",
       "             '昌岗站': ['江南西站', '江泰路站', '宝岗大道站', '晓港站'],\n",
       "             '晓港站': ['昌岗站', '中大站'],\n",
       "             '暹岗站': ['金峰站', '苏元站'],\n",
       "             '朱村站': ['凤岗站', '山田站'],\n",
       "             '机场北站': ['机场南站'],\n",
       "             '机场南站': ['高增站', '机场北站'],\n",
       "             '杨箕站': ['东山口站', '体育西路站', '动物园站', '五羊邨站'],\n",
       "             '板桥站': ['员岗站', '大学城南站'],\n",
       "             '林和西站': ['天河客运站', '广州东站', '体育中心南站'],\n",
       "             '柯木塱站': ['龙洞站', '高塘石站'],\n",
       "             '梅花园站': ['燕塘站', '京溪南方医院站'],\n",
       "             '植物园站': ['长湴站', '龙洞站'],\n",
       "             '横沙站': ['浔峰岗站', '沙贝站'],\n",
       "             '永泰站': ['同和站', '白云大道北站'],\n",
       "             '汉溪长隆站': ['市桥站', '大石站', '钟村站', '南村万博站'],\n",
       "             '江南西站': ['市二宫站', '昌岗站'],\n",
       "             '江夏站': ['黄边站', '萧岗站'],\n",
       "             '江泰路站': ['昌岗站', '东晓南站'],\n",
       "             '沙园站': ['凤凰新村站', '宝岗大道站'],\n",
       "             '沙村站': ['南岗站', '白江站'],\n",
       "             '沙河站': ['沙河顶站', '天平架站'],\n",
       "             '沙河顶站': ['黄花岗站', '沙河站'],\n",
       "             '沙贝站': ['横沙站', '河沙站'],\n",
       "             '沥滘站': ['厦滘站', '大塘站'],\n",
       "             '河沙站': ['沙贝站', '坦尾站'],\n",
       "             '洛溪站': ['南洲站', '南浦站'],\n",
       "             '浔峰岗站': ['横沙站'],\n",
       "             '海傍站': ['低涌站', '石碁站'],\n",
       "             '海心沙站': ['广州塔站', '大剧院站'],\n",
       "             '海珠广场站': ['公园前站', '市二宫站', '一德路站', '北京路站'],\n",
       "             '淘金站': ['小北站', '区庄站'],\n",
       "             '清㘵站': ['莲塘站', '清塘站'],\n",
       "             '清塘站': ['清㘵站', '高增站'],\n",
       "             '滘口站': ['坦尾站'],\n",
       "             '潭村站': ['猎德站', '员村站'],\n",
       "             '烈士陵园站': ['农讲所站', '东山口站'],\n",
       "             '燕塘站': ['广州东站', '梅花园站', '天平架站', '天河客运站'],\n",
       "             '猎德站': ['珠江新城站', '潭村站'],\n",
       "             '珠江新城站': ['广州塔站', '体育西路站', '五羊邨站', '猎德站'],\n",
       "             '琶洲站': ['新港东站', '万胜围站'],\n",
       "             '番禺广场站': ['市桥站'],\n",
       "             '白云东平站': ['嘉禾望岗站', '夏良站'],\n",
       "             '白云公园站': ['白云文化广场站', '飞翔公园站'],\n",
       "             '白云大道北站': ['永泰站', '嘉禾望岗站'],\n",
       "             '白云文化广场站': ['萧岗站', '白云公园站'],\n",
       "             '白江站': ['沙村站', '新塘站'],\n",
       "             '石壁站': ['会江站', '广州南站', '广州南站', '谢村站'],\n",
       "             '石牌桥站': ['体育西路站', '岗顶站'],\n",
       "             '石碁站': ['海傍站', '官桥站'],\n",
       "             '磨碟沙站': ['赤岗站', '新港东站'],\n",
       "             '科韵路站': ['员村站', '车陂南站'],\n",
       "             '竹料站': ['夏良站', '钟落潭站'],\n",
       "             '纪念堂站': ['越秀公园站', '公园前站'],\n",
       "             '花地湾站': ['坑口站', '芳村站'],\n",
       "             '花城大道站': ['大剧院站', '妇儿中心站'],\n",
       "             '花城路站': ['广州北站', '花果山公园站'],\n",
       "             '花果山公园站': ['花城路站', '花都广场站'],\n",
       "             '花都广场站': ['花果山公园站', '马鞍山公园站'],\n",
       "             '花都汽车城站': ['飞鹅岭站', '广州北站'],\n",
       "             '芳村站': ['花地湾站', '黄沙站'],\n",
       "             '苏元站': ['暹岗站', '萝岗站'],\n",
       "             '莲塘站': ['马鞍山公园站', '清㘵站'],\n",
       "             '萝岗站': ['苏元站', '香雪站'],\n",
       "             '萧岗站': ['江夏站', '白云文化广场站'],\n",
       "             '蕉门站': ['金洲站', '黄阁站'],\n",
       "             '裕丰围站': ['鱼珠站', '双岗站'],\n",
       "             '西场站': ['中山八站', '西村站'],\n",
       "             '西塱站': ['坑口站'],\n",
       "             '西村站': ['西场站', '广州火车站'],\n",
       "             '西门口站': ['陈家祠站', '公园前站'],\n",
       "             '谢村站': ['石壁站', '钟村站'],\n",
       "             '赤岗站': ['客村站', '磨碟沙站'],\n",
       "             '越秀公园站': ['广州火车站', '纪念堂站'],\n",
       "             '车陂南站': ['万胜围站', '车陂站', '科韵路站', '东圃站'],\n",
       "             '车陂站': ['车陂南站', '黄村站'],\n",
       "             '金峰站': ['黄陂站', '暹岗站'],\n",
       "             '金洲站': ['飞沙角站', '蕉门站'],\n",
       "             '钟岗站': ['山田站', '增城广场站'],\n",
       "             '钟村站': ['谢村站', '汉溪长隆站'],\n",
       "             '钟落潭站': ['竹料站', '新和站'],\n",
       "             '镇龙站': ['镇龙西站', '中新站'],\n",
       "             '镇龙西站': ['镇龙站'],\n",
       "             '长寿路站': ['黄沙站', '陈家祠站'],\n",
       "             '长湴站': ['天河客运站', '植物园站'],\n",
       "             '陈家祠站': ['长寿路站', '西门口站'],\n",
       "             '飞沙角站': ['广隆站', '金洲站'],\n",
       "             '飞翔公园站': ['白云公园站', '三元里站'],\n",
       "             '飞鹅岭站': ['花都汽车城站'],\n",
       "             '香雪站': ['萝岗站'],\n",
       "             '马鞍山公园站': ['花都广场站', '莲塘站'],\n",
       "             '高塘石站': ['柯木塱站', '黄陂站'],\n",
       "             '高增站': ['人和站', '机场南站', '清塘站'],\n",
       "             '鱼珠站': ['三溪站', '大沙地站', '裕丰围站'],\n",
       "             '鹭江站': ['中大站', '客村站'],\n",
       "             '黄埔大道站': ['妇儿中心站', '天河南站'],\n",
       "             '黄村站': ['车陂站'],\n",
       "             '黄沙站': ['芳村站', '长寿路站', '如意坊站', '文化公园站'],\n",
       "             '黄花岗站': ['区庄站', '沙河顶站'],\n",
       "             '黄边站': ['嘉禾望岗站', '江夏站'],\n",
       "             '黄阁汽车城站': ['黄阁站', '庆盛站'],\n",
       "             '黄阁站': ['蕉门站', '黄阁汽车城站'],\n",
       "             '黄陂站': ['高塘石站', '金峰站'],\n",
       "             '龙归站': ['嘉禾望岗站', '人和站'],\n",
       "             '龙洞站': ['植物园站', '柯木塱站']})"
      ]
     },
     "execution_count": 176,
     "metadata": {},
     "output_type": "execute_result"
    }
   ],
   "source": [
    "for k,item in enumerate(likes):\n",
    "    # if k == 3: break\n",
    "    line = url_header + item[0]\n",
    "    sta_list = get_information(line)\n",
    "    #print(sta_list)\n",
    "    for i in range(len(sta_list)-1):\n",
    "        station_connection[sta_list[i]].append(sta_list[i+1])\n",
    "        station_connection[sta_list[i+1]].append(sta_list[i])\n",
    "        \n",
    "station_connection"
   ]
  },
  {
   "cell_type": "code",
   "execution_count": 16,
   "metadata": {
    "collapsed": true
   },
   "outputs": [],
   "source": [
    "import networkx as nx\n",
    "% matplotlib inline"
   ]
  },
  {
   "cell_type": "code",
   "execution_count": 17,
   "metadata": {
    "collapsed": true
   },
   "outputs": [],
   "source": [
    "station_graph = nx.Graph()"
   ]
  },
  {
   "cell_type": "code",
   "execution_count": 121,
   "metadata": {},
   "outputs": [
    {
     "data": {
      "image/png": "[encoded data removed]",
      "text/plain": [
       "<matplotlib.figure.Figure at 0x1ada645c518>"
      ]
     },
     "metadata": {},
     "output_type": "display_data"
    }
   ],
   "source": [
    "station_with_road = nx.Graph(station_connection)\n",
    "nx.draw(station_with_road, with_labels=True, node_size=1)"
   ]
  },
  {
   "cell_type": "markdown",
   "metadata": {
    "collapsed": true
   },
   "source": [
    "#### 目前利用Networkx可视化效果比较差，会混在一起，上图只可视化其中一部分线路图"
   ]
  },
  {
   "cell_type": "markdown",
   "metadata": {
    "collapsed": true
   },
   "source": [
    "### 3. Build the search agent"
   ]
  },
  {
   "cell_type": "code",
   "execution_count": 241,
   "metadata": {
    "collapsed": true
   },
   "outputs": [],
   "source": [
    "def search(start, position, connection, sorted_candidate=False, by_way=False):\n",
    "    pathes = [[start]]\n",
    "    seen_ = set()\n",
    "    \n",
    "    while pathes:\n",
    "        # print(pathes)\n",
    "        path = pathes.pop()\n",
    "\n",
    "        cur_station = path[-1]\n",
    "        \n",
    "        if cur_station in seen_: continue\n",
    "\n",
    "        for i,next_sta in enumerate(connection[cur_station]):\n",
    "            # print('{},{}'.format(i,next_sta))\n",
    "            if next_sta in path: continue\n",
    "            new_path = path + [next_sta]\n",
    "            if next_sta == position: return new_path\n",
    "            else:\n",
    "                pathes = [new_path] + pathes\n",
    "        \n",
    "        seen_.add(cur_station)\n",
    "        \n",
    "        if sorted_candidate: pathes = sorted_candidate(pathes)"
   ]
  },
  {
   "cell_type": "code",
   "execution_count": 242,
   "metadata": {
    "collapsed": true
   },
   "outputs": [],
   "source": [
    "def pretty_print(cities):\n",
    "    print('🐌->'.join(cities))"
   ]
  },
  {
   "cell_type": "code",
   "execution_count": 243,
   "metadata": {},
   "outputs": [
    {
     "name": "stdout",
     "output_type": "stream",
     "text": [
      "万胜围站🐌->官洲站🐌->大学城北站🐌->大学城南站🐌->板桥站🐌->员岗站🐌->南村万博站🐌->汉溪长隆站🐌->钟村站🐌->谢村站🐌->石壁站🐌->广州南站\n"
     ]
    }
   ],
   "source": [
    "result = search('万胜围站', '广州南站', station_connection)\n",
    "pretty_print(result)"
   ]
  },
  {
   "cell_type": "markdown",
   "metadata": {
    "collapsed": true
   },
   "source": [
    "### 4. (optional) different policies for transfer system"
   ]
  },
  {
   "cell_type": "markdown",
   "metadata": {},
   "source": [
    "#### 优先站点少"
   ]
  },
  {
   "cell_type": "code",
   "execution_count": 244,
   "metadata": {
    "collapsed": true
   },
   "outputs": [],
   "source": [
    "def transfer_station_first(pathes):\n",
    "    return sorted(pathes, key = len, reverse=True)"
   ]
  },
  {
   "cell_type": "code",
   "execution_count": 245,
   "metadata": {},
   "outputs": [
    {
     "name": "stdout",
     "output_type": "stream",
     "text": [
      "万胜围站🐌->官洲站🐌->大学城北站🐌->大学城南站🐌->板桥站🐌->员岗站🐌->南村万博站🐌->汉溪长隆站🐌->钟村站🐌->谢村站🐌->石壁站🐌->广州南站\n"
     ]
    }
   ],
   "source": [
    "result = search('万胜围站', '广州南站', station_connection, transfer_station_first)\n",
    "pretty_print(result)"
   ]
  },
  {
   "cell_type": "markdown",
   "metadata": {},
   "source": [
    "#### 优先站点多"
   ]
  },
  {
   "cell_type": "code",
   "execution_count": 246,
   "metadata": {
    "collapsed": true
   },
   "outputs": [],
   "source": [
    "def transfer_station_as_much(pathes):\n",
    "    return sorted(pathes, key = len)"
   ]
  },
  {
   "cell_type": "code",
   "execution_count": 247,
   "metadata": {},
   "outputs": [
    {
     "name": "stdout",
     "output_type": "stream",
     "text": [
      "万胜围站🐌->官洲站🐌->大学城北站🐌->大学城南站🐌->板桥站🐌->员岗站🐌->南村万博站🐌->汉溪长隆站🐌->大石站🐌->厦滘站🐌->沥滘站🐌->大塘站🐌->客村站🐌->广州塔站🐌->珠江新城站🐌->体育西路站🐌->杨箕站🐌->东山口站🐌->烈士陵园站🐌->农讲所站🐌->公园前站🐌->西门口站🐌->陈家祠站🐌->长寿路站🐌->黄沙站🐌->文化公园站🐌->一德路站🐌->海珠广场站🐌->市二宫站🐌->江南西站🐌->昌岗站🐌->江泰路站🐌->东晓南站🐌->南洲站🐌->洛溪站🐌->南浦站🐌->会江站🐌->石壁站🐌->广州南站\n"
     ]
    }
   ],
   "source": [
    "result = search('万胜围站', '广州南站', station_connection, transfer_station_as_much)\n",
    "pretty_print(result)"
   ]
  },
  {
   "cell_type": "markdown",
   "metadata": {},
   "source": [
    "#### 要求经过某个站点"
   ]
  },
  {
   "cell_type": "code",
   "execution_count": null,
   "metadata": {
    "collapsed": true
   },
   "outputs": [],
   "source": []
  }
 ],
 "metadata": {
  "kernelspec": {
   "display_name": "Python 3",
   "language": "python",
   "name": "python3"
  },
  "language_info": {
   "codemirror_mode": {
    "name": "ipython",
    "version": 3
   },
   "file_extension": ".py",
   "mimetype": "text/x-python",
   "name": "python",
   "nbconvert_exporter": "python",
   "pygments_lexer": "ipython3",
   "version": "3.6.3"
  }
 },
 "nbformat": 4,
 "nbformat_minor": 2
}
